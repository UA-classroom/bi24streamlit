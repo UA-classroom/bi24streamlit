{
 "cells": [
  {
   "cell_type": "code",
   "execution_count": null,
   "metadata": {},
   "outputs": [],
   "source": [
    "# !pip install openpyxl"
   ]
  },
  {
   "cell_type": "code",
   "execution_count": null,
   "metadata": {},
   "outputs": [],
   "source": [
    "import pandas as pd\n",
    "import plotly.express as px\n",
    "import import streamlit as st\n",
    "import numpy as np"
   ]
  },
  {
   "cell_type": "code",
   "execution_count": null,
   "metadata": {},
   "outputs": [],
   "source": [
    "st.title(\"Home\")"
   ]
  },
  {
   "cell_type": "code",
   "execution_count": null,
   "metadata": {},
   "outputs": [],
   "source": [
    "st.set_page_config(page_title=\"Sales Dashboard\",\n",
    "                   page_icon=\":star:\", layout=\"wide\")"
   ]
  },
  {
   "cell_type": "code",
   "execution_count": null,
   "metadata": {},
   "outputs": [],
   "source": [
    "@st.cache_data\n",
    "def load_data():\n",
    "    df = pd.read_csv(\"modified_supermarket_sales.csv\")\n",
    "    df[\"hour\"] = pd.to_datetime(df[\"Time\"]).dt.hour\n",
    "    df[\"month\"] = pd.to_datetime(df[\"Date\"]).dt.month\n",
    "    df[\"year\"] = pd.to_datetime(df[\"Date\"]).dt.year\n",
    "    df['Day of Week'] = pd.to_datetime(df['Date']).dt.day_name()\n",
    "    df['Profit'] = df['Total'] - df['cogs']\n",
    "    return df\n",
    "\n",
    "df = load_data()\n"
   ]
  },
  {
   "cell_type": "code",
   "execution_count": null,
   "metadata": {},
   "outputs": [],
   "source": [
    "st.sidebar.header(\"Filter here\")\n",
    "year = st.sidebar.selectbox(\"Select year\", df[\"year\"].unique())\n"
   ]
  },
  {
   "cell_type": "code",
   "execution_count": null,
   "metadata": {},
   "outputs": [],
   "source": [
    "df_selection = df.query(\"year == @year\")"
   ]
  },
  {
   "cell_type": "code",
   "execution_count": null,
   "metadata": {},
   "outputs": [],
   "source": [
    "st.dataframe(df_selection)\n"
   ]
  },
  {
   "cell_type": "code",
   "execution_count": null,
   "metadata": {},
   "outputs": [],
   "source": [
    "st.title(\"Top KPI:s\")\n",
    "total_sales = int(df_selection[\"Total\"].sum())\n",
    "average_sales = df_selection[\"Total\"].mean()\n",
    "average_rating = df_selection[\"Rating\"].mean()"
   ]
  },
  {
   "cell_type": "markdown",
   "metadata": {},
   "source": [
    "### Columns"
   ]
  },
  {
   "cell_type": "code",
   "execution_count": null,
   "metadata": {},
   "outputs": [],
   "source": [
    "left_column, middle_column, right_column = st.columns(3)\n",
    "\n",
    "with left_column:\n",
    "    st.subheader(f\"Total Sales: {total_sales}\")\n",
    "\n",
    "with middle_column:\n",
    "    st.subheader(f\"Average Sales: {average_sales:.2f}\")\n",
    "\n",
    "\n",
    "with right_column:\n",
    "    st.subheader(f\"Average Rating: {average_rating:.2f}\")"
   ]
  },
  {
   "cell_type": "markdown",
   "metadata": {},
   "source": [
    "### More filter-widgets"
   ]
  },
  {
   "cell_type": "code",
   "execution_count": null,
   "metadata": {},
   "outputs": [],
   "source": [
    "city = st.sidebar.multiselect(\n",
    "    \"Select city\",\n",
    "    df[\"City\"].unique(),\n",
    "    df[\"City\"].unique()\n",
    ")\n",
    "\n",
    "customer_type = st.sidebar.multiselect(\n",
    "    \"Select customer type\",\n",
    "    df[\"Customer_type\"].unique(),\n",
    "    df[\"Customer_type\"].unique()\n",
    ")\n",
    "\n",
    "gender = st.sidebar.multiselect(\n",
    "    \"Select gender\",\n",
    "    df[\"Gender\"].unique(),\n",
    "    df[\"Gender\"].unique()\n",
    ")\n",
    "\n",
    "# Update query to this: df_selection = df.query(\n",
    "df_selection = df.query(\n",
    "    \"City == @city & Customer_type == @customer_type & Gender == @gender & year == @year\")"
   ]
  },
  {
   "cell_type": "markdown",
   "metadata": {},
   "source": [
    "### Pie charts"
   ]
  },
  {
   "cell_type": "code",
   "execution_count": null,
   "metadata": {},
   "outputs": [],
   "source": [
    "    \n",
    "col1, col2 = st.columns(2)\n",
    "\n",
    "with col1:\n",
    "    customer_type_data = df_selection[\"Customer_type\"].value_counts().reset_index()\n",
    "    customer_pie = px.pie(\n",
    "        names=customer_type_data[\"Customer_type\"],\n",
    "        values=customer_type_data[\"count\"],\n",
    "        title=\"Customer types\"\n",
    "    )\n",
    "    st.plotly_chart(customer_pie, use_container_width=True)\n",
    "\n",
    "with col2:\n",
    "    gender = df_selection[\"Gender\"].value_counts()\n",
    "    gender_pie_chart = px.pie(\n",
    "        names=gender.index,\n",
    "        values=gender,\n",
    "        title=\"Gender\"\n",
    "    )\n",
    "    st.plotly_chart(gender_pie_chart, use_container_width=True)"
   ]
  },
  {
   "cell_type": "markdown",
   "metadata": {},
   "source": [
    "### Sales section - barcharts"
   ]
  },
  {
   "cell_type": "markdown",
   "metadata": {},
   "source": [
    "#### Sales by product line"
   ]
  },
  {
   "cell_type": "code",
   "execution_count": null,
   "metadata": {},
   "outputs": [],
   "source": [
    "st.title(\"Sales\")\n",
    "st.subheader(\"Sales by Product Line\")\n",
    "s1 = df_selection.groupby(\"Product line\").sum(\n",
    "    numeric_only=True)[[\"Total\"]].sort_values(\"Total\")\n",
    "\n",
    "sales_chart = px.bar(s1, x=\"Total\", y=s1.index, title=\"Sales by Product Line\",\n",
    "                     template=\"plotly_white\", orientation=\"h\")\n",
    "st.plotly_chart(sales_chart)"
   ]
  },
  {
   "cell_type": "markdown",
   "metadata": {},
   "source": [
    "#### Sales by hour"
   ]
  },
  {
   "cell_type": "code",
   "execution_count": null,
   "metadata": {},
   "outputs": [],
   "source": [
    "st.subheader(\"Sales by hour\")\n",
    "s2 = df_selection.groupby(\"hour\").sum(numeric_only=True)[\n",
    "    [\"Total\"]].sort_values(\"Total\")\n",
    "\n",
    "sales_hour_chart = px.bar(s2, x=\"Total\", y=s2.index,\n",
    "                          title=\"Sales by the hour of day\", template=\"plotly_white\", orientation=\"h\")\n",
    "st.plotly_chart(sales_hour_chart)"
   ]
  },
  {
   "cell_type": "markdown",
   "metadata": {},
   "source": [
    "#### Sales by month"
   ]
  },
  {
   "cell_type": "code",
   "execution_count": null,
   "metadata": {},
   "outputs": [],
   "source": [
    "st.subheader(\"Sales by month\")\n",
    "s3 = df_selection.groupby(\"month\").sum(numeric_only=True)[\n",
    "    [\"Total\"]].sort_values(\"Total\")\n",
    "\n",
    "sales_by_month = px.bar(s3, y=\"Total\", x=s3.index,\n",
    "                        title=\"Sales by month\", template=\"plotly_white\")\n",
    "st.plotly_chart(sales_by_month)\n",
    "\n"
   ]
  },
  {
   "cell_type": "markdown",
   "metadata": {},
   "source": [
    "#### Pie chart - Distribution of sales by product line"
   ]
  },
  {
   "cell_type": "code",
   "execution_count": null,
   "metadata": {},
   "outputs": [],
   "source": [
    "# Distribution by sales by product line\n",
    "product_line_data = df_selection.groupby('Product line')['Total'].sum()\n",
    "\n",
    "product_line_pie_chart = px.pie(product_line_data,\n",
    "                                values='Total',\n",
    "                                names=product_line_data.index,\n",
    "                                title='Distribution of Sales by Product Line')\n",
    "\n",
    "st.plotly_chart(product_line_pie_chart)\n"
   ]
  },
  {
   "cell_type": "markdown",
   "metadata": {},
   "source": [
    "#### Profitability - barchart"
   ]
  },
  {
   "cell_type": "code",
   "execution_count": null,
   "metadata": {},
   "outputs": [],
   "source": [
    "# Profit\n",
    "profitability_data = df_selection.groupby('Product line')['Profit'].sum()\n",
    "profitability_chart = px.bar(x=profitability_data.index, y=profitability_data, title='Profitability by Product Line',\n",
    "                             labels={'y': 'Profit', 'x': 'Product Line'})\n",
    "st.plotly_chart(profitability_chart, use_container_width=True)\n"
   ]
  },
  {
   "cell_type": "markdown",
   "metadata": {},
   "source": [
    "## Line charts"
   ]
  },
  {
   "cell_type": "markdown",
   "metadata": {},
   "source": [
    "#### Cumulative sales as a line chart"
   ]
  },
  {
   "cell_type": "code",
   "execution_count": null,
   "metadata": {},
   "outputs": [],
   "source": [
    "cumulative_sales_data = df_selection.groupby('Date')['Total'].sum().cumsum()\n",
    "cumulative_sales_chart = px.line(cumulative_sales_data, x=cumulative_sales_data.index, y=cumulative_sales_data,\n",
    "                                 title='Cumulative Sales Over Time', labels={'y': 'Cumulative Total Sales', 'x': 'Date'})\n",
    "st.plotly_chart(cumulative_sales_chart, use_container_width=True)\n"
   ]
  },
  {
   "cell_type": "markdown",
   "metadata": {},
   "source": [
    "#### Daily total sales"
   ]
  },
  {
   "cell_type": "code",
   "execution_count": null,
   "metadata": {},
   "outputs": [],
   "source": [
    "# Group data by Date\n",
    "time_series_data = df_selection.groupby('Date')['Total'].sum()\n",
    "\n",
    "# Time Series Chart\n",
    "time_series_chart = px.line(time_series_data,\n",
    "                            x=time_series_data.index,\n",
    "                            y=time_series_data,\n",
    "                            title='Daily total sales',\n",
    "                            labels={'y': 'Total Sales', 'x': 'Date'})\n",
    "\n",
    "# Add interactive features\n",
    "time_series_chart.update_traces(mode='lines+markers')\n",
    "time_series_chart.update_layout(hovermode='x')\n",
    "\n",
    "# Display in Streamlit\n",
    "st.plotly_chart(time_series_chart, use_container_width=True)"
   ]
  },
  {
   "cell_type": "markdown",
   "metadata": {},
   "source": [
    "### Bonus - Heatmap of sales by day & hour using a pivot table"
   ]
  },
  {
   "cell_type": "code",
   "execution_count": null,
   "metadata": {},
   "outputs": [],
   "source": [
    "# HEATMAP\n",
    "heatmap_data = df.pivot_table(index='Day of Week', \n",
    "                              columns='hour', \n",
    "                              values='Total', \n",
    "                              aggfunc='sum')\n",
    "\n",
    "\n",
    "# Create the heatmap\n",
    "sales_heatmap = px.imshow(heatmap_data,\n",
    "                          labels=dict(x=\"Hour of Day\", y=\"Day of Week\", color=\"Total Sales\"),\n",
    "                          title=\"Heatmap of Sales by Day and Hour\",\n",
    "                          aspect=\"auto\")  # 'auto' adjusts the cell aspect ratio to the data\n",
    "\n",
    "\n",
    "# Display in Streamlit\n",
    "st.plotly_chart(sales_heatmap, use_container_width=True)\n"
   ]
  }
 ],
 "metadata": {
  "language_info": {
   "name": "python"
  }
 },
 "nbformat": 4,
 "nbformat_minor": 2
}
